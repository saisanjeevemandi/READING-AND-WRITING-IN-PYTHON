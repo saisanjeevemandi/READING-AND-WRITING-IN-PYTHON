{
 "cells": [
  {
   "cell_type": "code",
   "execution_count": 5,
   "id": "c839a04b",
   "metadata": {
    "scrolled": true
   },
   "outputs": [
    {
     "name": "stdout",
     "output_type": "stream",
     "text": [
      "2D Array:\n",
      "[[0.96911932 0.21230613 0.88481709 0.69864025 0.82437989]\n",
      " [0.63006662 0.95076212 0.15657275 0.85302267 0.7061975 ]\n",
      " [0.33104752 0.16064553 0.44529747 0.18706782 0.53919934]\n",
      " [0.54285558 0.36065964 0.76084764 0.29478502 0.99099415]\n",
      " [0.9546539  0.65946318 0.62167686 0.10592927 0.50158178]]\n"
     ]
    }
   ],
   "source": [
    "# 1st Question\n",
    "#Create a 2D numpy array with 5x5 elements and store it in .npy file and display.\n",
    "import numpy as np\n",
    "x = np.random.random((5,5)3\n",
    "                    \n",
    "                    \n",
    "                     \n",
    "                        )\n",
    "print(\"2D Array:\")\n",
    "print(x)\n",
    "np.save('saved_data',x)"
   ]
  },
  {
   "cell_type": "code",
   "execution_count": 9,
   "id": "231f57e8",
   "metadata": {},
   "outputs": [],
   "source": [
    "loaded_data = np.load('saved_data.npy')"
   ]
  },
  {
   "cell_type": "code",
   "execution_count": 11,
   "id": "2ea9655f",
   "metadata": {},
   "outputs": [
    {
     "data": {
      "text/plain": [
       "array([[0.96911932, 0.21230613, 0.88481709, 0.69864025, 0.82437989],\n",
       "       [0.63006662, 0.95076212, 0.15657275, 0.85302267, 0.7061975 ],\n",
       "       [0.33104752, 0.16064553, 0.44529747, 0.18706782, 0.53919934],\n",
       "       [0.54285558, 0.36065964, 0.76084764, 0.29478502, 0.99099415],\n",
       "       [0.9546539 , 0.65946318, 0.62167686, 0.10592927, 0.50158178]])"
      ]
     },
     "execution_count": 11,
     "metadata": {},
     "output_type": "execute_result"
    }
   ],
   "source": [
    "loaded_data"
   ]
  },
  {
   "cell_type": "code",
   "execution_count": 28,
   "id": "71222398",
   "metadata": {},
   "outputs": [
    {
     "data": {
      "text/plain": [
       "''"
      ]
     },
     "execution_count": 28,
     "metadata": {},
     "output_type": "execute_result"
    }
   ],
   "source": [
    "# 2ND QUESTION\n",
    "#Create a .csv file in the name demo and store reg.no, name, section, mark1, mark2, mark3 values of 10 students.\n",
    "a = np.array(\"A,B,C,D,E,F,G,H,I,J\".split(','))\n",
    "b= list(np.array(('D2,'*10).split(',')))\n",
    "mark1 =  np.random.randint(100,size=(10,))\n",
    "mark2 =  np.random.randint(100,size=(10,))\n",
    "mark3 =  np.random.randint(100,size=(10,))\n",
    "b.pop()"
   ]
  },
  {
   "cell_type": "code",
   "execution_count": 29,
   "id": "3e579f6e",
   "metadata": {},
   "outputs": [
    {
     "data": {
      "text/plain": [
       "(10,)"
      ]
     },
     "execution_count": 29,
     "metadata": {},
     "output_type": "execute_result"
    }
   ],
   "source": [
    "mark1.shape\n"
   ]
  },
  {
   "cell_type": "code",
   "execution_count": 30,
   "id": "f1324298",
   "metadata": {},
   "outputs": [
    {
     "data": {
      "text/plain": [
       "array([[['A', 'B', 'C', 'D', 'E', 'F', 'G', 'H', 'I', 'J']],\n",
       "\n",
       "       [['D2', 'D2', 'D2', 'D2', 'D2', 'D2', 'D2', 'D2', 'D2', 'D2']],\n",
       "\n",
       "       [['7', '87', '70', '20', '46', '47', '0', '66', '81', '57']],\n",
       "\n",
       "       [['53', '47', '26', '3', '94', '4', '91', '99', '84', '73']],\n",
       "\n",
       "       [['83', '27', '9', '61', '73', '12', '41', '70', '86', '37']]],\n",
       "      dtype='<U11')"
      ]
     },
     "execution_count": 30,
     "metadata": {},
     "output_type": "execute_result"
    }
   ],
   "source": [
    "data = np.array([[a],[b],[mark1],[mark2],[mark3]])\n",
    "data"
   ]
  },
  {
   "cell_type": "code",
   "execution_count": 31,
   "id": "778f1ecd",
   "metadata": {},
   "outputs": [
    {
     "data": {
      "text/plain": [
       "(5, 1, 10)"
      ]
     },
     "execution_count": 31,
     "metadata": {},
     "output_type": "execute_result"
    }
   ],
   "source": [
    "data.shape"
   ]
  },
  {
   "cell_type": "code",
   "execution_count": 32,
   "id": "b4488c30",
   "metadata": {},
   "outputs": [
    {
     "data": {
      "text/plain": [
       "array([['A', 'D2', '7', '53', '83'],\n",
       "       ['B', 'D2', '87', '47', '27'],\n",
       "       ['C', 'D2', '70', '26', '9'],\n",
       "       ['D', 'D2', '20', '3', '61'],\n",
       "       ['E', 'D2', '46', '94', '73'],\n",
       "       ['F', 'D2', '47', '4', '12'],\n",
       "       ['G', 'D2', '0', '91', '41'],\n",
       "       ['H', 'D2', '66', '99', '70'],\n",
       "       ['I', 'D2', '81', '84', '86'],\n",
       "       ['J', 'D2', '57', '73', '37']], dtype='<U11')"
      ]
     },
     "execution_count": 32,
     "metadata": {},
     "output_type": "execute_result"
    }
   ],
   "source": [
    "data_n = data.reshape(5,10)\n",
    "data_n.T"
   ]
  },
  {
   "cell_type": "code",
   "execution_count": 33,
   "id": "de941783",
   "metadata": {},
   "outputs": [],
   "source": [
    "csv_rows = [\"{},{},{},{},{}\".format(i, j, k,m,n) for i, j, k, m, n in data_n.T]\n",
    "csv_text = \"\\n\".join(csv_rows)\n",
    "\n",
    "with open('sample.csv', 'w') as f:\n",
    "    f.write(csv_text)"
   ]
  },
  {
   "cell_type": "code",
   "execution_count": 34,
   "id": "b3cccb10",
   "metadata": {},
   "outputs": [
    {
     "data": {
      "text/plain": [
       "<function TextIOWrapper.close()>"
      ]
     },
     "execution_count": 34,
     "metadata": {},
     "output_type": "execute_result"
    }
   ],
   "source": [
    "f.close"
   ]
  },
  {
   "cell_type": "code",
   "execution_count": 35,
   "id": "90ccd07e",
   "metadata": {},
   "outputs": [
    {
     "data": {
      "text/plain": [
       "array([['B', 'D2', '87', '47', '27'],\n",
       "       ['C', 'D2', '70', '26', '9'],\n",
       "       ['D', 'D2', '20', '3', '61'],\n",
       "       ['E', 'D2', '46', '94', '73'],\n",
       "       ['F', 'D2', '47', '4', '12'],\n",
       "       ['G', 'D2', '0', '91', '41'],\n",
       "       ['H', 'D2', '66', '99', '70'],\n",
       "       ['I', 'D2', '81', '84', '86'],\n",
       "       ['J', 'D2', '57', '73', '37']], dtype='<U2')"
      ]
     },
     "execution_count": 35,
     "metadata": {},
     "output_type": "execute_result"
    }
   ],
   "source": [
    "# 3RD QUESTION\n",
    "#Load the demo.csv file content into numpy array.\n",
    "with open('sample.csv','r') as f:\n",
    "    txt  = f.readlines()\n",
    "data = np.genfromtxt('sample.csv',delimiter=\",\",skip_header=True,dtype =str)\n",
    "data"
   ]
  },
  {
   "cell_type": "code",
   "execution_count": null,
   "id": "fb00db06",
   "metadata": {},
   "outputs": [],
   "source": []
  }
 ],
 "metadata": {
  "kernelspec": {
   "display_name": "Python 3 (ipykernel)",
   "language": "python",
   "name": "python3"
  },
  "language_info": {
   "codemirror_mode": {
    "name": "ipython",
    "version": 3
   },
   "file_extension": ".py",
   "mimetype": "text/x-python",
   "name": "python",
   "nbconvert_exporter": "python",
   "pygments_lexer": "ipython3",
   "version": "3.9.7"
  }
 },
 "nbformat": 4,
 "nbformat_minor": 5
}
